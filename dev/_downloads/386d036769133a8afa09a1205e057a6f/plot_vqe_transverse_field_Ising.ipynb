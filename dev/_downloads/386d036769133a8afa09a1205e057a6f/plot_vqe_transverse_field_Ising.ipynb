{
  "cells": [
    {
      "cell_type": "markdown",
      "metadata": {},
      "source": [
        "\n# Variational Quantum Eigensolver\n\nVariational Quantum Eigensolver ([1]_) (VQE) \nwith Transverse Field Ising Model Hamiltonian using TensorLy-Quantum.\nTensorLy-Quantum provides a Pythonic API to TT-tensor network circuit simulation\nfor large-scale simulation of variational quantum circuits,\nwith full Autograd support and an interface similar to PyTorch Neural Networks.\n"
      ]
    },
    {
      "cell_type": "code",
      "execution_count": null,
      "metadata": {
        "collapsed": false
      },
      "outputs": [],
      "source": [
        "import tensorly as tl\nimport tlquantum as tlq\nfrom tensorly.tt_matrix import TTMatrix\nfrom torch import randint, rand, arange, complex64\nfrom torch.optim import Adam\nimport matplotlib.pyplot as plt"
      ]
    },
    {
      "cell_type": "markdown",
      "metadata": {},
      "source": [
        "Uncomment the line below to use the GPU\n\n"
      ]
    },
    {
      "cell_type": "code",
      "execution_count": null,
      "metadata": {
        "collapsed": false
      },
      "outputs": [],
      "source": [
        "#device = 'cuda' \ndevice = 'cpu'\n\ndtype = complex64\n\nnepochs = 80 #number of training epochs\n\nnqubits = 5 #number of qubits\nncontraq = 2 #2 #number of qubits to pre-contract into single core\nncontral = 2 #2 #number of layers to pre-contract into a single core\nnterms = 10\nlr = 0.5"
      ]
    },
    {
      "cell_type": "code",
      "execution_count": null,
      "metadata": {
        "collapsed": false
      },
      "outputs": [],
      "source": [
        "state = tlq.spins_to_tt_state([0 for i in range(nqubits)], device=device, dtype=dtype) # generate generic zero state |00000>\nstate = tlq.qubits_contract(state, ncontraq)"
      ]
    },
    {
      "cell_type": "markdown",
      "metadata": {},
      "source": [
        "Here we build a random spin-spin and transverse field weights.\ntwo-qubit terms\n\n"
      ]
    },
    {
      "cell_type": "code",
      "execution_count": null,
      "metadata": {
        "collapsed": false
      },
      "outputs": [],
      "source": [
        "qubits1 = randint(nqubits, (nterms,), device=device) # randomly generated first qubits of each two-qubit term\nqubits2 = randint(nqubits, (nterms,), device=device) # randomly generated second qubits of each two-qubit term\nqubits2[qubits2==qubits1] += 1 # because qubits in this Hamiltonian randomly generated, eliminate self-interacting terms\nqubits2[qubits2 >= nqubits] = 0\nweights = rand((nterms,), device=device) # randomly generated coefficients of each two-qubit interaction in Hamiltonian\nbinary_H = tlq.binary_hamiltonian(tlq.pauli_z(device=device, dtype=dtype), nqubits, qubits1, qubits2, weights) # build the spin-spin Hamiltonian H"
      ]
    },
    {
      "cell_type": "code",
      "execution_count": null,
      "metadata": {
        "collapsed": false
      },
      "outputs": [],
      "source": [
        "qubits = arange(nqubits, device=device) # specify that each qubit will have a transverse field term\nweights = rand((nqubits,), device=device) # randomly generated coefficients for the transverse field felt by each qubit\nunary_H = tlq.unary_hamiltonian(tlq.pauli_x(device=device, dtype=dtype), nqubits, qubits, weights) #build the transverse field Hamiltonian"
      ]
    },
    {
      "cell_type": "code",
      "execution_count": null,
      "metadata": {
        "collapsed": false
      },
      "outputs": [],
      "source": [
        "Ising_H = tlq.tt_matrix_sum(binary_H, unary_H)"
      ]
    },
    {
      "cell_type": "code",
      "execution_count": null,
      "metadata": {
        "collapsed": false
      },
      "outputs": [],
      "source": [
        "custom_U = tlq.Unitary([tlq.RotY(device=device, dtype=dtype), *tlq.so4(0,1, device=device, dtype=dtype), tlq.RotY(device=device, dtype=dtype), *tlq.so4(2, 3, device=device, dtype=dtype)], nqubits, ncontraq)"
      ]
    },
    {
      "cell_type": "code",
      "execution_count": null,
      "metadata": {
        "collapsed": false
      },
      "outputs": [],
      "source": [
        "RotY = tlq.UnaryGatesUnitary(nqubits, ncontraq, axis='y', device=device, dtype=dtype) # one Y-axis rotation gate applied to each qubit of the circuit\nRotY2 = tlq.UnaryGatesUnitary(nqubits, ncontraq, axis='y', device=device, dtype=dtype)\nRotX = tlq.UnaryGatesUnitary(nqubits, ncontraq, axis='x', device=device, dtype=dtype)\nparity = 0\nCZ0 = tlq.BinaryGatesUnitary(nqubits, ncontraq, tlq.cz(device=device, dtype=dtype), parity) # one controlled-z gate for each pair of qubits using even parity (even qubits control)\nparity = 1\nSO4_01 = tlq.BinaryGatesUnitary(nqubits, ncontraq, tlq.so4(2,3, device=device, dtype=dtype), parity) # one SO4 rotation about two-qubit states |2> and |3> with odd parity"
      ]
    },
    {
      "cell_type": "code",
      "execution_count": null,
      "metadata": {
        "collapsed": false
      },
      "outputs": [],
      "source": [
        "unitaries = [RotY, SO4_01, RotY, CZ0, RotX]"
      ]
    },
    {
      "cell_type": "code",
      "execution_count": null,
      "metadata": {
        "collapsed": false
      },
      "outputs": [],
      "source": [
        "repeat_block, unitaries_automatic = 3, []\nfor i in range(repeat_block):\n    unitaries_automatic += unitaries"
      ]
    },
    {
      "cell_type": "code",
      "execution_count": null,
      "metadata": {
        "collapsed": false
      },
      "outputs": [],
      "source": [
        "circuit = tlq.TTCircuit(unitaries, ncontraq, ncontral)\nopt = Adam(circuit.parameters(), lr=lr, amsgrad=True) # define PyTorch optimizer\nenergy_vec = tl.zeros(nepochs)\n\nfor epoch in range(nepochs):\n    # TTCircuit forward pass computes expectation value of Ising_H\n    energy = circuit.forward_expectation_value(state, Ising_H)\n    print('Energy (loss) at epoch ' + str(epoch) + ' is ' + str(energy[0].item()) + '. \\n')\n\n    # PyTorch Autograd attends to backwards pass and parameter update\n    energy.backward()\n    opt.step()\n    opt.zero_grad(epoch)\n    energy_vec[epoch] = energy"
      ]
    },
    {
      "cell_type": "code",
      "execution_count": null,
      "metadata": {
        "collapsed": false
      },
      "outputs": [],
      "source": [
        "Ising_H = TTMatrix(Ising_H).to_matrix()\ntrue_energies, _ = tl.eigh(Ising_H)\nground_state_energy = true_energies[0]\nplt.figure()\nplt.plot(energy_vec.detach().cpu().numpy(), color='r')\nplt.hlines(ground_state_energy.detach().cpu().numpy(), 0, nepochs, color='k', linestyle='--')\nplt.xlabel('Epochs')\nplt.ylabel('Energy')\nplt.xticks()\nplt.yticks()\nplt.legend(['Variational Solution', 'Ground Truth'])\nplt.show()"
      ]
    },
    {
      "cell_type": "markdown",
      "metadata": {},
      "source": [
        "# References\n.. [1] Peruzzo, A., McClean, J., Shadbolt, P. et al. A variational eigenvalue solver on a photonic quantum processor. Nat Commun 5, 4213 (2014). \n\n"
      ]
    }
  ],
  "metadata": {
    "kernelspec": {
      "display_name": "Python 3",
      "language": "python",
      "name": "python3"
    },
    "language_info": {
      "codemirror_mode": {
        "name": "ipython",
        "version": 3
      },
      "file_extension": ".py",
      "mimetype": "text/x-python",
      "name": "python",
      "nbconvert_exporter": "python",
      "pygments_lexer": "ipython3",
      "version": "3.8.16"
    }
  },
  "nbformat": 4,
  "nbformat_minor": 0
}